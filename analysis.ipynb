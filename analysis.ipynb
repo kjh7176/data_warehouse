{
 "cells": [
  {
   "cell_type": "code",
   "execution_count": null,
   "metadata": {
    "editable": true
   },
   "outputs": [],
   "source": [
    "import configparser\n",
    "import psycopg2\n",
    "from time import time\n",
    "from iac import create_cluster, delete_cluster\n",
    "import pandas as pd\n",
    "import matplotlib.pyplot as plt"
   ]
  },
  {
   "cell_type": "code",
   "execution_count": null,
   "metadata": {
    "editable": true
   },
   "outputs": [],
   "source": [
    "%load_ext sql"
   ]
  },
  {
   "cell_type": "code",
   "execution_count": null,
   "metadata": {
    "editable": true
   },
   "outputs": [],
   "source": [
    "config = configparser.ConfigParser()\n",
    "config.read('dwh.cfg')\n",
    "\n",
    "DWH_DB= config.get(\"CLUSTER\",\"DB_NAME\")\n",
    "DWH_DB_USER= config.get(\"CLUSTER\",\"DB_USER\")\n",
    "DWH_DB_PASSWORD= config.get(\"CLUSTER\",\"DB_PASSWORD\")\n",
    "DWH_PORT = config.get(\"CLUSTER\",\"DB_PORT\")\n",
    "\n",
    "host = create_cluster()\n",
    "conn_string = \"postgresql://{}:{}@{}:{}/{}\".format(DWH_DB_USER, DWH_DB_PASSWORD, host, DWH_PORT, DWH_DB)\n",
    "\n",
    "%sql $conn_string"
   ]
  },
  {
   "cell_type": "code",
   "execution_count": null,
   "metadata": {
    "editable": true
   },
   "outputs": [],
   "source": [
    "%%sql\n",
    "CREATE SCHEMA IF NOT EXISTS nodist;\n",
    "SET search_path TO nodist;\n",
    "\n",
    "CREATE TABLE users(\n",
    "    user_id    varchar    PRIMARY KEY, \n",
    "    first_name varchar    NOT NULL, \n",
    "    last_name  varchar    NOT NULL, \n",
    "    gender     varchar(1) NOT NULL, \n",
    "    level      varchar    NOT NULL);\n",
    "\n",
    "CREATE TABLE artists(\n",
    "    artist_id varchar PRIMARY KEY, \n",
    "    name      varchar NOT NULL, \n",
    "    location  varchar, \n",
    "    latitude  decimal, \n",
    "    longitude decimal);\n",
    "\n",
    "CREATE TABLE songs(\n",
    "    song_id   varchar  PRIMARY KEY, \n",
    "    title     varchar  NOT NULL, \n",
    "    artist_id varchar  NOT NULL REFERENCES artists, \n",
    "    year      smallint NOT NULL, \n",
    "    duration  decimal  NOT NULL);\n",
    "\n",
    "CREATE TABLE time(\n",
    "    start_time timestamp PRIMARY KEY, \n",
    "    hour       smallint, \n",
    "    day        smallint, \n",
    "    weekofyear smallint, \n",
    "    month      smallint, \n",
    "    year       smallint, \n",
    "    weekday    smallint);\n",
    "\n",
    "CREATE TABLE songplays(\n",
    "    songplay_id int       IDENTITY(0,1)       PRIMARY KEY, \n",
    "    start_time  timestamp REFERENCES time   , \n",
    "    user_id     int       REFERENCES users, \n",
    "    level       varchar   NOT NULL, \n",
    "    song_id     varchar   REFERENCES songs  , \n",
    "    artist_id   varchar   REFERENCES artists, \n",
    "    session_id  int       NOT NULL, \n",
    "    location    varchar, \n",
    "    user_agent  varchar);"
   ]
  },
  {
   "cell_type": "code",
   "execution_count": null,
   "metadata": {
    "editable": true
   },
   "outputs": [],
   "source": [
    "%%sql\n",
    "\n",
    "INSERT INTO nodist.users\n",
    "SELECT t.userId, t.firstName, t.lastName, t.gender, se.level\n",
    "FROM dist.staging_events se\n",
    "JOIN\n",
    "    (SELECT userId, firstName, lastName, gender, MAX(ts) max_ts\n",
    "    FROM dist.staging_events\n",
    "    WHERE page='NextSong'\n",
    "    GROUP BY userId, firstName, lastName, gender) t\n",
    "ON se.userId = t.userId and se.firstName = t.firstName and se.lastName = t.lastName \n",
    "AND se.gender = t.gender and se.ts = t.max_Ts;\n",
    "\n",
    "INSERT INTO nodist.songs\n",
    "SELECT DISTINCT song_id, title, artist_id, year, duration\n",
    "FROM dist.staging_songs;\n",
    "\n",
    "INSERT INTO nodist.artists\n",
    "SELECT t.artist_id, ss.artist_name, ss.artist_location, ss.artist_latitude\n",
    "FROM dist.staging_songs ss\n",
    "JOIN\n",
    "    (SELECT artist_id, MIN(song_id) song_id\n",
    "    FROM dist.staging_songs\n",
    "    GROUP BY artist_id) t\n",
    "ON ss.artist_id = t.artist_id\n",
    "AND ss.song_id = t.song_id;\n",
    "\n",
    "INSERT INTO nodist.time\n",
    "SELECT DISTINCT TIMESTAMP 'epoch' + ts/1000 *INTERVAL '1 second' start_time,\n",
    "    EXTRACT(hour from start_time),\n",
    "    EXTRACT(day from start_time),\n",
    "    EXTRACT(w from start_time),\n",
    "    EXTRACT(month from start_time),\n",
    "    EXTRACT(year from start_time),\n",
    "    EXTRACT(dow from start_time)\n",
    "FROM dist.staging_events\n",
    "WHERE page='NextSong';\n",
    "\n",
    "INSERT INTO nodist.songplays (start_time, user_id, level, song_id, artist_id, session_id, location, user_agent)\n",
    "SELECT DISTINCT TIMESTAMP 'epoch' + se.ts/1000 *INTERVAL '1 second' start_time,\n",
    "    se.userId, se.level, s.song_id, s.artist_id, se.sessionId, se.location, se.userAgent\n",
    "FROM dist.staging_events se\n",
    "JOIN artists a ON a.name = se.artist\n",
    "JOIN songs s ON s.title = se.song and s.duration = se.length\n",
    "WHERE se.page='NextSong'"
   ]
  },
  {
   "cell_type": "code",
   "execution_count": null,
   "metadata": {
    "editable": true
   },
   "outputs": [],
   "source": [
    "%%sql\n",
    "SELECT table_id,\"table\" tablename,schema schemaname,tbl_rows,unsorted,sortkey1,sortkey_num,diststyle \n",
    "FROM svv_table_info\n",
    "ORDER BY schemaname, tablename"
   ]
  },
  {
   "cell_type": "markdown",
   "metadata": {
    "editable": true
   },
   "source": [
    "#### 1. Display a play list of the specific user in the latest played order.\n",
    "<table>\n",
    "    <tr>\n",
    "        <th>title</th>\n",
    "        <th>artist</th>\n",
    "        <th>play_date</th>\n",
    "    </tr>\n",
    "    <tr>\n",
    "        <td>Rianna</td>\n",
    "        <td>Fisher</td>\n",
    "        <td>2018-11-28</td>\n",
    "    </tr>\n",
    "    <tr>\n",
    "        <td>I CAN&#x27;T GET STARTED</td>\n",
    "        <td>Ron Carter</td>\n",
    "        <td>2018-11-27</td>\n",
    "    </tr>\n",
    "    <tr>\n",
    "        <td>Shimmy Shimmy Quarter Turn (Take It Back To Square One)</td>\n",
    "        <td>Hellogoodbye</td>\n",
    "        <td>2018-11-26</td>\n",
    "    </tr>\n",
    "    <tr>\n",
    "        <td>Emergency (Album Version)</td>\n",
    "        <td>Paramore</td>\n",
    "        <td>2018-11-26</td>\n",
    "    </tr>\n",
    "    <tr>\n",
    "        <td>What It Ain&#x27;t</td>\n",
    "        <td>Josh Turner</td>\n",
    "        <td>2018-11-26</td>\n",
    "    </tr>\n",
    "    <tr>\n",
    "        <td>Eye Of The Beholder</td>\n",
    "        <td>Metallica</td>\n",
    "        <td>2018-11-26</td>\n",
    "    </tr>\n",
    "    <tr>\n",
    "        <td>Loneliness</td>\n",
    "        <td>Tomcraft</td>\n",
    "        <td>2018-11-24</td>\n",
    "    </tr>\n",
    "    <tr>\n",
    "        <td>Bang! Bang!</td>\n",
    "        <td>The Knux</td>\n",
    "        <td>2018-11-24</td>\n",
    "    </tr>\n",
    "    <tr>\n",
    "        <td>You&#x27;re The One</td>\n",
    "        <td>Dwight Yoakam</td>\n",
    "        <td>2018-11-24</td>\n",
    "    </tr>\n",
    "    <tr>\n",
    "        <td>Sun / C79</td>\n",
    "        <td>Cat Stevens</td>\n",
    "        <td>2018-11-24</td>\n",
    "    </tr>\n",
    "    <tr>\n",
    "        <td>Wax on Tha Belt (Baby G Gets Biz)</td>\n",
    "        <td>Mad Flava</td>\n",
    "        <td>2018-11-24</td>\n",
    "    </tr>\n",
    "    <tr>\n",
    "        <td>Catch You Baby (Steve Pitron &amp; Max Sanna Radio Edit)</td>\n",
    "        <td>Lonnie Gordon</td>\n",
    "        <td>2018-11-23</td>\n",
    "    </tr>\n",
    "    <tr>\n",
    "        <td>Nothin&#x27; On You [feat. Bruno Mars] (Album Version)</td>\n",
    "        <td>B.o.B</td>\n",
    "        <td>2018-11-21</td>\n",
    "    </tr>\n",
    "    <tr>\n",
    "        <td>Die Kunst der Fuge_ BWV 1080 (2007 Digital Remaster): Contrapunctus XVII - Inversus</td>\n",
    "        <td>Lionel Rogg</td>\n",
    "        <td>2018-11-21</td>\n",
    "    </tr>\n",
    "    <tr>\n",
    "        <td>Mr. Jones</td>\n",
    "        <td>Counting Crows</td>\n",
    "        <td>2018-11-21</td>\n",
    "    </tr>\n",
    "    <tr>\n",
    "        <td>You&#x27;re The One</td>\n",
    "        <td>Dwight Yoakam</td>\n",
    "        <td>2018-11-09</td>\n",
    "    </tr>\n",
    "</table>"
   ]
  },
  {
   "cell_type": "code",
   "execution_count": null,
   "metadata": {
    "editable": true
   },
   "outputs": [],
   "source": [
    "queries = []\n",
    "\n",
    "queries.append(\"\"\"\n",
    "SET enable_result_cache_for_session TO OFF;\n",
    "SET search_path TO {};\n",
    "\n",
    "SELECT title, name artist, TO_CHAR(start_time, 'YYYY-MM-DD') play_date\n",
    "FROM songs s\n",
    "JOIN songplays sp ON s.song_id=sp.song_id\n",
    "JOIN artists a ON sp.artist_id=a.artist_id\n",
    "WHERE user_id=88\n",
    "ORDER BY start_time DESC\n",
    "\"\"\")"
   ]
  },
  {
   "cell_type": "markdown",
   "metadata": {
    "editable": true
   },
   "source": [
    "#### 2. What is the most played song every year?\n",
    "<table>\n",
    "    <tr>\n",
    "        <th>year</th>\n",
    "        <th>title</th>\n",
    "        <th>artist</th>\n",
    "        <th>play_count</th>\n",
    "    </tr>\n",
    "    <tr>\n",
    "        <td>2018</td>\n",
    "        <td>You&#x27;re The One</td>\n",
    "        <td>Dwight Yoakam</td>\n",
    "        <td>37</td>\n",
    "    </tr>\n",
    "</table>"
   ]
  },
  {
   "cell_type": "code",
   "execution_count": null,
   "metadata": {
    "editable": true
   },
   "outputs": [],
   "source": [
    "queries.append(\"\"\"\n",
    "SET enable_result_cache_for_session TO OFF;\n",
    "SET search_path TO {};\n",
    "\n",
    "WITH t1 as (SELECT t.year, title, name, count(songplay_id)\n",
    "FROM songplays sp \n",
    "JOIN songs s ON s.song_id=sp.song_id\n",
    "JOIN artists a ON a.artist_id=sp.artist_id\n",
    "JOIN time t ON sp.start_time=t.start_time\n",
    "GROUP BY t.year, title, name\n",
    "ORDER BY 3 DESC),\n",
    "\n",
    "t2 as (SELECT year, max(count)\n",
    "FROM t1\n",
    "GROUP BY year)\n",
    "\n",
    "SELECT t1.year, t1.title, t1.name artist, t1.count play_count\n",
    "FROM t1, t2\n",
    "WHERE t1.year=t2.year and t1.count=t2.max\"\"\")"
   ]
  },
  {
   "cell_type": "markdown",
   "metadata": {
    "editable": true
   },
   "source": [
    "#### 3. Display the 5 most played artists from LA.\n",
    "<table>\n",
    "    <tr>\n",
    "        <th>rank</th>\n",
    "        <th>artist</th>\n",
    "        <th>play_count</th>\n",
    "    </tr>\n",
    "    <tr>\n",
    "        <td>1</td>\n",
    "        <td>Linkin Park</td>\n",
    "        <td>4</td>\n",
    "    </tr>\n",
    "    <tr>\n",
    "        <td>1</td>\n",
    "        <td>Metallica</td>\n",
    "        <td>4</td>\n",
    "    </tr>\n",
    "    <tr>\n",
    "        <td>3</td>\n",
    "        <td>Black Eyed Peas</td>\n",
    "        <td>3</td>\n",
    "    </tr>\n",
    "    <tr>\n",
    "        <td>4</td>\n",
    "        <td>Katy Perry</td>\n",
    "        <td>1</td>\n",
    "    </tr>\n",
    "    <tr>\n",
    "        <td>4</td>\n",
    "        <td>Maroon 5</td>\n",
    "        <td>1</td>\n",
    "    </tr>\n",
    "</table>"
   ]
  },
  {
   "cell_type": "code",
   "execution_count": null,
   "metadata": {
    "editable": true
   },
   "outputs": [],
   "source": [
    "queries.append(\"\"\"\n",
    "SET enable_result_cache_for_session TO OFF;\n",
    "SET search_path TO {};\n",
    "\n",
    "SELECT rank() over (order by play_count DESC), a.name artist, count(songplay_id) play_count\n",
    "FROM songplays sp\n",
    "JOIN artists a ON a.artist_id=sp.artist_id\n",
    "WHERE a.location = 'Los Angeles, CA'\n",
    "GROUP BY 2\n",
    "ORDER BY 1\n",
    "LIMIT 5\n",
    "\"\"\")"
   ]
  },
  {
   "cell_type": "markdown",
   "metadata": {
    "editable": true
   },
   "source": [
    "#### 4. What time are women most likely to listen music?\n",
    "<table>\n",
    "    <tr>\n",
    "        <th>hour</th>\n",
    "        <th>play_count</th>\n",
    "    </tr>\n",
    "    <tr>\n",
    "        <td>17</td>\n",
    "        <td>27</td>\n",
    "    </tr>\n",
    "    <tr>\n",
    "        <td>15</td>\n",
    "        <td>18</td>\n",
    "    </tr>\n",
    "    <tr>\n",
    "        <td>18</td>\n",
    "        <td>15</td>\n",
    "    </tr>\n",
    "    <tr>\n",
    "        <td>16</td>\n",
    "        <td>14</td>\n",
    "    </tr>\n",
    "    <tr>\n",
    "        <td>14</td>\n",
    "        <td>13</td>\n",
    "    </tr>\n",
    "    <tr>\n",
    "        <td>11</td>\n",
    "        <td>13</td>\n",
    "    </tr>\n",
    "    <tr>\n",
    "        <td>8</td>\n",
    "        <td>12</td>\n",
    "    </tr>\n",
    "    <tr>\n",
    "        <td>20</td>\n",
    "        <td>12</td>\n",
    "    </tr>\n",
    "    <tr>\n",
    "        <td>19</td>\n",
    "        <td>10</td>\n",
    "    </tr>\n",
    "    <tr>\n",
    "        <td>21</td>\n",
    "        <td>10</td>\n",
    "    </tr>\n",
    "</table>"
   ]
  },
  {
   "cell_type": "code",
   "execution_count": null,
   "metadata": {
    "editable": true
   },
   "outputs": [],
   "source": [
    "queries.append(\"\"\"\n",
    "SET enable_result_cache_for_session TO OFF;\n",
    "SET search_path TO {};\n",
    "\n",
    "SELECT t.hour, count(songplay_id) play_count\n",
    "FROM songplays sp\n",
    "JOIN users u ON u.user_id=sp.user_id\n",
    "JOIN time t ON sp.start_time=t.start_time\n",
    "WHERE u.gender = 'F'\n",
    "GROUP BY 1\n",
    "ORDER BY 2 DESC\n",
    "LIMIT 10\n",
    "\"\"\")"
   ]
  },
  {
   "cell_type": "code",
   "execution_count": null,
   "metadata": {
    "editable": true
   },
   "outputs": [],
   "source": [
    "def compareQueryTimes(schemas):\n",
    "    df = pd.DataFrame({\"query\":[1, 2, 3, 4]}).set_index(\"query\")\n",
    "    for schema in schemas:\n",
    "        query_times = []\n",
    "        for query in queries:\n",
    "            query = query.format(schema)\n",
    "            t0 = time()\n",
    "            %sql $query\n",
    "            dt = time() - t0\n",
    "            query_times.append(dt)\n",
    "        print(query_times)\n",
    "        df[\"time_\"+schema] = query_times\n",
    "    return df\n",
    "df = compareQueryTimes([\"dist\", \"nodist\"])"
   ]
  },
  {
   "cell_type": "code",
   "execution_count": null,
   "metadata": {
    "editable": true
   },
   "outputs": [],
   "source": [
    "df.plot.bar(title = \"Query time with/without distkey\")\n",
    "plt.show()"
   ]
  },
  {
   "cell_type": "code",
   "execution_count": null,
   "metadata": {
    "editable": true
   },
   "outputs": [],
   "source": [
    "df[\"imp\"] = 100 * (df[\"time_nodist\"] - df[\"time_dist\"]) / df[\"time_nodist\"]"
   ]
  },
  {
   "cell_type": "code",
   "execution_count": null,
   "metadata": {
    "editable": true
   },
   "outputs": [],
   "source": [
    "df[[\"imp\"]].plot.bar(title = \"Improvement by distkey(%)\")\n",
    "plt.show()"
   ]
  },
  {
   "cell_type": "code",
   "execution_count": null,
   "metadata": {
    "editable": true
   },
   "outputs": [],
   "source": [
    "%%sql\n",
    "DROP SCHEMA nodist CASCADE;"
   ]
  },
  {
   "cell_type": "code",
   "execution_count": null,
   "metadata": {
    "editable": true
   },
   "outputs": [],
   "source": [
    "delete_cluster()"
   ]
  }
 ],
 "metadata": {
  "kernelspec": {
   "display_name": "Python 3",
   "language": "python",
   "name": "python3"
  },
  "language_info": {
   "codemirror_mode": {
    "name": "ipython",
    "version": 3
   },
   "file_extension": ".py",
   "mimetype": "text/x-python",
   "name": "python",
   "nbconvert_exporter": "python",
   "pygments_lexer": "ipython3",
   "version": "3.6.3"
  }
 },
 "nbformat": 4,
 "nbformat_minor": 4
}
