{
 "cells": [
  {
   "cell_type": "code",
   "execution_count": null,
   "metadata": {
    "editable": true
   },
   "outputs": [],
   "source": [
    "import configparser\n",
    "import psycopg2\n",
    "from time import time\n",
    "from iac import create_cluster"
   ]
  },
  {
   "cell_type": "code",
   "execution_count": null,
   "metadata": {
    "editable": true
   },
   "outputs": [],
   "source": [
    "%load_ext sql"
   ]
  },
  {
   "cell_type": "code",
   "execution_count": null,
   "metadata": {
    "editable": true
   },
   "outputs": [],
   "source": [
    "config = configparser.ConfigParser()\n",
    "config.read('dwh.cfg')\n",
    "\n",
    "DWH_DB= config.get(\"CLUSTER\",\"DB_NAME\")\n",
    "DWH_DB_USER= config.get(\"CLUSTER\",\"DB_USER\")\n",
    "DWH_DB_PASSWORD= config.get(\"CLUSTER\",\"DB_PASSWORD\")\n",
    "DWH_PORT = config.get(\"CLUSTER\",\"DB_PORT\")\n",
    "\n",
    "host = create_cluster()\n",
    "conn_string = \"postgresql://{}:{}@{}:{}/{}\".format(DWH_DB_USER, DWH_DB_PASSWORD, host, DWH_PORT, DWH_DB)\n",
    "\n",
    "%sql $conn_string"
   ]
  },
  {
   "cell_type": "code",
   "execution_count": null,
   "metadata": {
    "editable": true
   },
   "outputs": [],
   "source": [
    "%%sql\n",
    "SELECT table_id,\"table\" tablename,schema schemaname,tbl_rows,unsorted,sortkey1,sortkey_num,diststyle \n",
    "FROM svv_table_info\n",
    "ORDER BY schemaname, tablename"
   ]
  },
  {
   "cell_type": "code",
   "execution_count": null,
   "metadata": {
    "editable": true
   },
   "outputs": [],
   "source": [
    "%%sql\n",
    "SET search_path TO dist;\n",
    "\n",
    "(SELECT 'artists' as table, 'artist_id' as column, count(distinct artist_id)\n",
    "FROM artists\n",
    "UNION\n",
    "SELECT 'staging_songs', 'artist_id', count(distinct artist_id)\n",
    "FROM staging_songs\n",
    "UNION\n",
    "SELECT 'songs', 'song_id', count(distinct song_id)\n",
    "FROM songs\n",
    "UNION\n",
    "SELECT 'staging_songs', 'song_id', count(distinct song_id)\n",
    "FROM staging_songs\n",
    "UNION\n",
    "SELECT 'users', 'user_id', count(distinct user_id)\n",
    "FROM users\n",
    "UNION\n",
    "SELECT 'staging_events', 'user_id', count(distinct userId)\n",
    "FROM staging_events\n",
    "WHERE page = 'NextSong'\n",
    "UNION\n",
    "SELECT 'staging_events', 'start_time', count(distinct ts)\n",
    "FROM staging_events\n",
    "WHERE page = 'NextSong'\n",
    "UNION\n",
    "SELECT 'time', 'start_time', count(distinct start_time)\n",
    "FROM time)\n",
    "ORDER BY 2"
   ]
  },
  {
   "cell_type": "code",
   "execution_count": null,
   "metadata": {
    "editable": true
   },
   "outputs": [],
   "source": [
    "%%sql\n",
    "SET search_path TO dist;\n",
    "\n",
    "SELECT * FROM songplays\n",
    "LIMIT 5;"
   ]
  },
  {
   "cell_type": "code",
   "execution_count": null,
   "metadata": {
    "editable": true
   },
   "outputs": [],
   "source": [
    "%%sql\n",
    "SET search_path TO dist;\n",
    "\n",
    "SELECT * FROM users\n",
    "LIMIT 5;"
   ]
  },
  {
   "cell_type": "code",
   "execution_count": null,
   "metadata": {
    "editable": true
   },
   "outputs": [],
   "source": [
    "%%sql\n",
    "SET search_path TO dist;\n",
    "\n",
    "SELECT * FROM artists\n",
    "LIMIT 5;"
   ]
  },
  {
   "cell_type": "code",
   "execution_count": null,
   "metadata": {
    "editable": true
   },
   "outputs": [],
   "source": [
    "%%sql\n",
    "SET search_path TO dist;\n",
    "\n",
    "SELECT * FROM songs\n",
    "LIMIT 5;"
   ]
  },
  {
   "cell_type": "code",
   "execution_count": null,
   "metadata": {
    "editable": true
   },
   "outputs": [],
   "source": [
    "%%sql\n",
    "SET search_path TO dist;\n",
    "\n",
    "SELECT * FROM time\n",
    "LIMIT 5;"
   ]
  }
 ],
 "metadata": {
  "kernelspec": {
   "display_name": "Python 3",
   "language": "python",
   "name": "python3"
  },
  "language_info": {
   "codemirror_mode": {
    "name": "ipython",
    "version": 3
   },
   "file_extension": ".py",
   "mimetype": "text/x-python",
   "name": "python",
   "nbconvert_exporter": "python",
   "pygments_lexer": "ipython3",
   "version": "3.6.3"
  }
 },
 "nbformat": 4,
 "nbformat_minor": 4
}
